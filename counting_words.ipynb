{
 "cells": [
  {
   "cell_type": "markdown",
   "id": "14d8ca9f",
   "metadata": {},
   "source": [
    "# Human Interface Guidelines: Counting the Words"
   ]
  },
  {
   "cell_type": "markdown",
   "id": "1a76079f",
   "metadata": {},
   "source": [
    "We've all been rejected by Apple for not adhering to some principle or other in their \"Human Interface Guidelines.\" But how many people have actually read them? We can suppose that new developers often skip over reading the full thing because they're rather long. But can we quantify this assertion? This notebook uses a function enabled by the `beautifulsoup` HTML parser to count the words in each major section of Apple's guidelines to help us understand just how much time and energy it would take to understand development guidelines for each major platform.\n",
    "\n",
    "First, let's import the custom function we made for counting the words for Apple's Human Interface Guidelines to the four major platforms:"
   ]
  },
  {
   "cell_type": "code",
   "execution_count": 27,
   "id": "35c63df2",
   "metadata": {},
   "outputs": [],
   "source": [
    "from words import getWordCountFor"
   ]
  },
  {
   "cell_type": "markdown",
   "id": "e5b58de6",
   "metadata": {},
   "source": [
    "Let's find the word counts for each system!"
   ]
  },
  {
   "cell_type": "code",
   "execution_count": 28,
   "id": "097aabf5",
   "metadata": {},
   "outputs": [
    {
     "name": "stdout",
     "output_type": "stream",
     "text": [
      "Loading text...\n"
     ]
    },
    {
     "name": "stderr",
     "output_type": "stream",
     "text": [
      "100%|███████████████████████████████████████████████████████████████████████████████████████████████████| 87/87 [00:35<00:00,  2.48it/s]\n"
     ]
    }
   ],
   "source": [
    "iosCount = getWordCountFor(\"ios\")"
   ]
  },
  {
   "cell_type": "code",
   "execution_count": 29,
   "id": "784a6959",
   "metadata": {},
   "outputs": [
    {
     "name": "stdout",
     "output_type": "stream",
     "text": [
      "Loading text...\n"
     ]
    },
    {
     "name": "stderr",
     "output_type": "stream",
     "text": [
      "100%|█████████████████████████████████████████████████████████████████████████████████████████████████| 100/100 [00:38<00:00,  2.63it/s]\n"
     ]
    }
   ],
   "source": [
    "macCount = getWordCountFor(\"macos\")"
   ]
  },
  {
   "cell_type": "code",
   "execution_count": 30,
   "id": "cf2599b5",
   "metadata": {},
   "outputs": [
    {
     "name": "stdout",
     "output_type": "stream",
     "text": [
      "Loading text...\n"
     ]
    },
    {
     "name": "stderr",
     "output_type": "stream",
     "text": [
      "100%|███████████████████████████████████████████████████████████████████████████████████████████████████| 43/43 [00:15<00:00,  2.72it/s]\n"
     ]
    }
   ],
   "source": [
    "tvCount = getWordCountFor(\"tvos\")"
   ]
  },
  {
   "cell_type": "code",
   "execution_count": 31,
   "id": "1ceb5980",
   "metadata": {},
   "outputs": [
    {
     "name": "stdout",
     "output_type": "stream",
     "text": [
      "Loading text...\n"
     ]
    },
    {
     "name": "stderr",
     "output_type": "stream",
     "text": [
      "100%|███████████████████████████████████████████████████████████████████████████████████████████████████| 36/36 [00:13<00:00,  2.66it/s]\n"
     ]
    }
   ],
   "source": [
    "watchCount = getWordCountFor(\"watchos\")"
   ]
  },
  {
   "cell_type": "code",
   "execution_count": 32,
   "id": "58af37dc",
   "metadata": {},
   "outputs": [
    {
     "data": {
      "text/markdown": [
       "\n",
       "**Word Counts:**\n",
       "\n",
       "* **iOS:** 57312\n",
       "* **macOS:** 66452\n",
       "* **tvOS:** 21494\n",
       "* **watchOS:** 16820\n",
       "\n",
       "**Other Information:**\n",
       "\n",
       "* **Total Words:** 162078\n"
      ],
      "text/plain": [
       "<IPython.core.display.Markdown object>"
      ]
     },
     "execution_count": 32,
     "metadata": {},
     "output_type": "execute_result"
    }
   ],
   "source": [
    "# https://data-dive.com/jupyterlab-markdown-cells-include-variables\n",
    "from IPython.display import Markdown as md\n",
    "mdText = f\"\"\"\n",
    "**Word Counts:**\n",
    "\n",
    "* **iOS:** {iosCount}\n",
    "* **macOS:** {macCount}\n",
    "* **tvOS:** {tvCount}\n",
    "* **watchOS:** {watchCount}\n",
    "\n",
    "**Other Information:**\n",
    "\n",
    "* **Total Words:** {iosCount + macCount + tvCount + watchCount}\n",
    "\"\"\"\n",
    "md(mdText)"
   ]
  },
  {
   "cell_type": "markdown",
   "id": "c202f66e",
   "metadata": {},
   "source": [
    "For comparison, *Harry Potter and the Sorcerer's Stone* has just under [77,000 words](https://wordcounter.net/blog/2015/11/23/10922_how-many-words-harry-potter.html#:~:text=How%20many%20words%20are%20in,There%20are%2076%2C944%20words.). So when you read the iOS or MacOS guidelines you're reading the equivalent of a short novel, and reading all of them together will put you pass *The Two Towers* or *Return of the King*, but  falling a bit short of *The Fellowship of the Ring* ([source](https://blog.fostergrant.co.uk/2017/08/03/word-counts-popular-books-world/#:~:text=The%20Fellowship%20of%20the%20Ring,of%20the%20King%20%E2%80%93%20137%2C115%20words)).\n",
    "\n",
    "But what if we also include the other sections listed in the \"Technologies\" section of the Human Interface Guidelines?"
   ]
  },
  {
   "cell_type": "markdown",
   "id": "d61ab81a",
   "metadata": {},
   "source": [
    "Let's first import a function we created just for these sections:"
   ]
  },
  {
   "cell_type": "code",
   "execution_count": 33,
   "id": "9a0ff459",
   "metadata": {},
   "outputs": [],
   "source": [
    "from words import getTechnologiesWordCount"
   ]
  },
  {
   "cell_type": "markdown",
   "id": "fe4145dc",
   "metadata": {},
   "source": [
    "We'll then run it:"
   ]
  },
  {
   "cell_type": "code",
   "execution_count": 34,
   "id": "f2e88122",
   "metadata": {},
   "outputs": [],
   "source": [
    "# hide terminal output for reading convenience\n",
    "from IPython.utils import io\n",
    "\n",
    "other_words_count = 0\n",
    "with io.capture_output() as captured:\n",
    "    other_words_count = getTechnologiesWordCount();"
   ]
  },
  {
   "cell_type": "code",
   "execution_count": 35,
   "id": "f055c43c",
   "metadata": {},
   "outputs": [
    {
     "data": {
      "text/markdown": [
       "\n",
       "**Total Words for Sections Under \"Technologies\":** 101670\n"
      ],
      "text/plain": [
       "<IPython.core.display.Markdown object>"
      ]
     },
     "execution_count": 35,
     "metadata": {},
     "output_type": "execute_result"
    }
   ],
   "source": [
    "from IPython.display import Markdown as md\n",
    "mdText = f\"\"\"\n",
    "**Total Words for Sections Under \"Technologies\":** {other_words_count}\n",
    "\"\"\"\n",
    "md(mdText)"
   ]
  },
  {
   "cell_type": "markdown",
   "id": "bac1c585",
   "metadata": {},
   "source": [
    "Well, that's another book. Better get to reading!\n",
    "\n",
    "The science on reading speed is rather shaky, so let's take a conservative estimate of 200 wpm. This is on the lower end but it takes into account that we're reading technical material, but I guess if you read technical stuff faster than this you can multiply the result by a custom coefficient. We can then calculate the number of hours (not including breaks) it would take us to read each major section of the guidelines, as well as the cumulative time for the whole:"
   ]
  },
  {
   "cell_type": "code",
   "execution_count": 36,
   "id": "2335dae3",
   "metadata": {
    "scrolled": true
   },
   "outputs": [
    {
     "data": {
      "text/markdown": [
       "\n",
       "**Hours:**\n",
       "* **iOS:** 4.8\n",
       "* **macOS:** 5.5\n",
       "* **tvOS:** 1.8\n",
       "* **watchOS:** 1.4\n",
       "* **Other:** 8.5\n",
       "\n",
       "<hr style=\"height:1px;border-width:0;color:black;background-color:black\">\n",
       "\n",
       "**Total:** 22.0\n"
      ],
      "text/plain": [
       "<IPython.core.display.Markdown object>"
      ]
     },
     "execution_count": 36,
     "metadata": {},
     "output_type": "execute_result"
    }
   ],
   "source": [
    "from IPython.display import Markdown as md\n",
    "\n",
    "wpm = 200\n",
    "wph = wpm * 60\n",
    "\n",
    "ios_h = iosCount / wph\n",
    "mac_h = macCount / wph\n",
    "tv_h = tvCount / wph\n",
    "watch_h = watchCount / wph\n",
    "other_h = other_words_count / wph\n",
    "total_h = ios_h + mac_h + tv_h + watch_h + other_h\n",
    "\n",
    "mdText = f\"\"\"\n",
    "**Hours:**\n",
    "* **iOS:** {round(ios_h, 1)}\n",
    "* **macOS:** {round(mac_h, 1)}\n",
    "* **tvOS:** {round(tv_h, 1)}\n",
    "* **watchOS:** {round(watch_h, 1)}\n",
    "* **Other:** {round(other_h, 1)}\n",
    "\n",
    "<hr style=\"height:1px;border-width:0;color:black;background-color:black\">\n",
    "\n",
    "**Total:** {round(total_h, 1)}\n",
    "\"\"\"\n",
    "md(mdText)"
   ]
  },
  {
   "cell_type": "markdown",
   "id": "188e509a",
   "metadata": {},
   "source": [
    "So if you're an xOS developer looking for some gracious reading material to tide you over this rather obnoxiously long pandemic, look no further than something you might have been putting off for years: dozens of hours of Apple's dispassionate, opinionated corporate voice lulling you to sleep—er, I mean, action—a desire to make your apps better!"
   ]
  }
 ],
 "metadata": {
  "kernelspec": {
   "display_name": "Python 3 (ipykernel)",
   "language": "python",
   "name": "python3"
  },
  "language_info": {
   "codemirror_mode": {
    "name": "ipython",
    "version": 3
   },
   "file_extension": ".py",
   "mimetype": "text/x-python",
   "name": "python",
   "nbconvert_exporter": "python",
   "pygments_lexer": "ipython3",
   "version": "3.8.2"
  }
 },
 "nbformat": 4,
 "nbformat_minor": 5
}
